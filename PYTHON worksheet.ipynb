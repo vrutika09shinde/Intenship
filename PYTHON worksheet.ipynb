{
 "cells": [
  {
   "cell_type": "markdown",
   "id": "f30638de-af4b-4932-ac2e-9ce3c45d62d8",
   "metadata": {},
   "source": [
    "PYTHON – WORKSHEET 1"
   ]
  },
  {
   "cell_type": "code",
   "execution_count": null,
   "id": "d07a7fed-f143-4d60-95f3-65e2840a7af6",
   "metadata": {},
   "outputs": [],
   "source": [
    "1 = C) %"
   ]
  },
  {
   "cell_type": "code",
   "execution_count": null,
   "id": "d6156d98-ec2c-4b6e-85c9-e3fdc73c731e",
   "metadata": {},
   "outputs": [],
   "source": [
    "2 = B)0"
   ]
  },
  {
   "cell_type": "code",
   "execution_count": null,
   "id": "a6108af5-3c48-4f53-a7dd-a89ccfd0d410",
   "metadata": {},
   "outputs": [],
   "source": [
    "3 = C)24"
   ]
  },
  {
   "cell_type": "code",
   "execution_count": null,
   "id": "1457451d-7ccd-4b0c-bdb9-8c4d28e19089",
   "metadata": {},
   "outputs": [],
   "source": [
    "4 = A) 2 "
   ]
  },
  {
   "cell_type": "code",
   "execution_count": null,
   "id": "92a32a25-1cd4-48d9-8c21-b04a2db077c6",
   "metadata": {},
   "outputs": [],
   "source": [
    "5 = D) 6"
   ]
  },
  {
   "cell_type": "code",
   "execution_count": null,
   "id": "5349d191-1cdc-4932-b9ef-c97856d6b9b6",
   "metadata": {},
   "outputs": [],
   "source": [
    "6 = C) the finally block will be executed no matter if the try block raises an error or not."
   ]
  },
  {
   "cell_type": "code",
   "execution_count": null,
   "id": "e9bfc84a-5cec-4a3c-a953-1346faa712fc",
   "metadata": {},
   "outputs": [],
   "source": [
    "7 = A) It is used to raise an exception."
   ]
  },
  {
   "cell_type": "code",
   "execution_count": null,
   "id": "1c28e2dd-6ae1-49aa-ad3c-e9c07bcb9d1c",
   "metadata": {},
   "outputs": [],
   "source": [
    "8 = C) in defining a generator"
   ]
  },
  {
   "cell_type": "code",
   "execution_count": null,
   "id": "bf1af098-8be9-4224-90e1-7f47c7670b94",
   "metadata": {},
   "outputs": [],
   "source": [
    "9 = A) _abc"
   ]
  },
  {
   "cell_type": "code",
   "execution_count": null,
   "id": "86632431-b362-4a2a-8062-fcb8a0eb720f",
   "metadata": {},
   "outputs": [],
   "source": [
    "10 = D) all of the above\n"
   ]
  },
  {
   "cell_type": "code",
   "execution_count": null,
   "id": "66f7bb54-bce4-446c-a319-d9d554b9b51d",
   "metadata": {},
   "outputs": [],
   "source": []
  },
  {
   "cell_type": "markdown",
   "id": "f6587c33-db58-4e64-b10a-edf0ff36e170",
   "metadata": {},
   "source": [
    "ANS = 11"
   ]
  },
  {
   "cell_type": "code",
   "execution_count": 27,
   "id": "dbad8aeb-48c5-41ac-8d2d-df2e58124645",
   "metadata": {},
   "outputs": [
    {
     "name": "stdout",
     "output_type": "stream",
     "text": [
      "The factorial of 8 is 40320\n"
     ]
    }
   ],
   "source": [
    "num =8\n",
    "factorial =1\n",
    "\n",
    "if num < 0:\n",
    "   print(\"Sorry, factorial does not exist for negative numbers\")\n",
    "elif num == 0:\n",
    "   print(\"The factorial of 0 is 1\")\n",
    "else:\n",
    "   for i in range(1,num + 1):\n",
    "       factorial = factorial*i\n",
    "   print(\"The factorial of\",num,\"is\",factorial)"
   ]
  },
  {
   "cell_type": "code",
   "execution_count": null,
   "id": "f11d65b7-905a-4516-a180-b3df7052ed96",
   "metadata": {},
   "outputs": [],
   "source": []
  },
  {
   "cell_type": "markdown",
   "id": "8963c545-db2d-4539-aa3e-078cd2a9b446",
   "metadata": {},
   "source": [
    "ANS =12"
   ]
  },
  {
   "cell_type": "code",
   "execution_count": 28,
   "id": "56e0f3a3-ded4-4bd4-85a0-d6219ee6e838",
   "metadata": {},
   "outputs": [
    {
     "name": "stdout",
     "output_type": "stream",
     "text": [
      "29 is a prime number\n"
     ]
    }
   ],
   "source": [
    "num = 29\n",
    "output = False\n",
    "if num == 1:\n",
    "    print(num, \"is not a prime number\")\n",
    "elif num > 1:\n",
    "    for i in range(2, num):\n",
    "        if (num % i) == 0:\n",
    "            output = True\n",
    "            break\n",
    "\n",
    "    \n",
    "    if output:\n",
    "        print(num, \"is not a prime number\")\n",
    "    else:\n",
    "        print(num, \"is a prime number\")\n"
   ]
  },
  {
   "cell_type": "code",
   "execution_count": null,
   "id": "1deae862-174a-4497-b9d5-0132dbf6b14b",
   "metadata": {},
   "outputs": [],
   "source": []
  },
  {
   "cell_type": "markdown",
   "id": "d819079c-279a-4d50-9577-28ced2e203fb",
   "metadata": {},
   "source": [
    "ANS = 13"
   ]
  },
  {
   "cell_type": "code",
   "execution_count": 31,
   "id": "b6a044f0-cc27-45d0-8e0c-792c59757dab",
   "metadata": {},
   "outputs": [
    {
     "name": "stdout",
     "output_type": "stream",
     "text": [
      "The string is not a palindrome.\n"
     ]
    }
   ],
   "source": [
    "str = 'vRUTiKASuraJsHInD'\n",
    "\n",
    "str = str.casefold()\n",
    "\n",
    "rev_str = reversed(str)\n",
    "\n",
    "if list(str) == list(rev_str):\n",
    "   print(\"The string is a palindrome.\")\n",
    "else:\n",
    "   print(\"The string is not a palindrome.\")"
   ]
  },
  {
   "cell_type": "code",
   "execution_count": null,
   "id": "093ab749-9e0b-4d5e-8a67-324f141034eb",
   "metadata": {},
   "outputs": [],
   "source": []
  },
  {
   "cell_type": "markdown",
   "id": "6c04654f-ac93-4e3a-8479-14e4b5b2e090",
   "metadata": {},
   "source": [
    "ANS = 14"
   ]
  },
  {
   "cell_type": "code",
   "execution_count": 32,
   "id": "8829b285-cccc-41c7-bf6a-cc027a6730c7",
   "metadata": {},
   "outputs": [
    {
     "name": "stdin",
     "output_type": "stream",
     "text": [
      "Enter base:  8.5\n",
      "Enter height:  4.5\n",
      "Enter angle:  40\n"
     ]
    },
    {
     "name": "stdout",
     "output_type": "stream",
     "text": [
      "Hypotenuse = 9.617692030835672\n"
     ]
    }
   ],
   "source": [
    "import math\n",
    "\n",
    "a = float(input(\"Enter base: \"))\n",
    "b = float(input(\"Enter height: \"))\n",
    "x = float(input(\"Enter angle: \"))\n",
    "\n",
    "c = math.sqrt(a ** 2 + b ** 2)\n",
    "\n",
    "print(\"Hypotenuse =\", c)\n"
   ]
  },
  {
   "cell_type": "code",
   "execution_count": null,
   "id": "cbb35eba-ee00-4a6c-9cd1-b3eda681ef07",
   "metadata": {},
   "outputs": [],
   "source": []
  },
  {
   "cell_type": "markdown",
   "id": "1dd80a4d-36a0-4d80-b257-347da8340029",
   "metadata": {},
   "source": [
    "ANS = 15"
   ]
  },
  {
   "cell_type": "code",
   "execution_count": 33,
   "id": "2d940fe6-bb05-425f-bc01-6696cabe5eeb",
   "metadata": {},
   "outputs": [
    {
     "ename": "SyntaxError",
     "evalue": "invalid syntax (1605872391.py, line 1)",
     "output_type": "error",
     "traceback": [
      "\u001b[1;36m  Cell \u001b[1;32mIn[33], line 1\u001b[1;36m\u001b[0m\n\u001b[1;33m    Input :  str[] = \"Apple Mango Orange Mango Guava Guava Mango\"\u001b[0m\n\u001b[1;37m                 ^\u001b[0m\n\u001b[1;31mSyntaxError\u001b[0m\u001b[1;31m:\u001b[0m invalid syntax\n"
     ]
    }
   ],
   "source": [
    "Input :  str[] = \"Apple Mango Orange Mango Guava Guava Mango\""
   ]
  },
  {
   "cell_type": "code",
   "execution_count": null,
   "id": "02399847-a690-4d45-8c15-bd2ad508cf44",
   "metadata": {},
   "outputs": [],
   "source": []
  },
  {
   "cell_type": "code",
   "execution_count": null,
   "id": "7900fd2a-4452-4f7b-b6c7-6d60061ad552",
   "metadata": {},
   "outputs": [],
   "source": []
  },
  {
   "cell_type": "code",
   "execution_count": null,
   "id": "e049c6c3-5a67-4593-b2c9-25d9830154a8",
   "metadata": {},
   "outputs": [],
   "source": []
  },
  {
   "cell_type": "code",
   "execution_count": null,
   "id": "62ab261e-0e34-4c35-9ad8-b1895663cadd",
   "metadata": {},
   "outputs": [],
   "source": []
  }
 ],
 "metadata": {
  "kernelspec": {
   "display_name": "Python 3 (ipykernel)",
   "language": "python",
   "name": "python3"
  },
  "language_info": {
   "codemirror_mode": {
    "name": "ipython",
    "version": 3
   },
   "file_extension": ".py",
   "mimetype": "text/x-python",
   "name": "python",
   "nbconvert_exporter": "python",
   "pygments_lexer": "ipython3",
   "version": "3.11.5"
  }
 },
 "nbformat": 4,
 "nbformat_minor": 5
}
